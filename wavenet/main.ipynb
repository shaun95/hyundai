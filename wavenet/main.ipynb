{
 "cells": [
  {
   "cell_type": "code",
   "execution_count": 1,
   "metadata": {},
   "outputs": [],
   "source": [
    "import torch\n",
    "import torch.nn as nn\n",
    "import torch.optim as optim\n",
    "import torchaudio\n",
    "from torchsummary import summary\n",
    "\n",
    "import os\n",
    "import numpy as np\n",
    "import matplotlib.pyplot as plt\n",
    "import librosa\n",
    "import IPython.display as ipd\n",
    "\n",
    "import models\n",
    "import utils\n",
    "import torch\n",
    "import torch.nn as nn\n",
    "import torch.optim as optim\n",
    "import torchaudio\n",
    "from torchsummary import summary\n",
    "\n",
    "import os\n",
    "import numpy as np\n",
    "import matplotlib.pyplot as plt\n",
    "import librosa\n",
    "import IPython.display as ipd\n",
    "\n",
    "import models\n",
    "import utils"
   ]
  },
  {
   "cell_type": "code",
   "execution_count": 2,
   "metadata": {},
   "outputs": [],
   "source": [
    "\"\"\"Settings\"\"\"\n",
    "os.environ[\"CUDA_DEVICE_ORDER\"]=\"PCI_BUS_ID\"   \n",
    "os.environ[\"CUDA_VISIBLE_DEVICES\"]=\"1\"\n",
    "\n",
    "device = \"cuda\" if torch.cuda.is_available() else \"cpu\"\n",
    "\n",
    "\"\"\"Hyper Parameters\"\"\"\n",
    "n = 82081 # size of the length of waveform\n",
    "wav_chans = 1 # size of channels of the waveform\"\"\"Settings\"\"\"\n",
    "os.environ[\"CUDA_DEVICE_ORDER\"]=\"PCI_BUS_ID\"   \n",
    "os.environ[\"CUDA_VISIBLE_DEVICES\"]=\"1\"\n",
    "\n",
    "device = \"cuda\" if torch.cuda.is_available() else \"cpu\"\n",
    "\n",
    "\"\"\"Hyper Parameters\"\"\"\n",
    "n = 82081 # size of the length of waveform\n",
    "wav_chans = 1 # size of channels of the waveform"
   ]
  },
  {
   "cell_type": "code",
   "execution_count": 3,
   "metadata": {},
   "outputs": [],
   "source": [
    "sample_data = \"/data/datasets/ai_challenge/AURORA2-noises/8k/airport.wav\"\n",
    "data, sr = librosa.load(sample_data, sr=8192)\n",
    "data = data[np.newaxis, :]\n",
    "sample_data = \"/data/datasets/ai_challenge/AURORA2-noises/8k/airport.wav\"\n",
    "data, sr = librosa.load(sample_data, sr=8192)\n",
    "data = data[np.newaxis, :]"
   ]
  },
  {
   "cell_type": "code",
   "execution_count": 4,
   "metadata": {
    "tags": []
   },
   "outputs": [
    {
     "output_type": "stream",
     "name": "stdout",
     "text": "1023\noutput size:  18976\n----------------------------------------------------------------\n        Layer (type)               Output Shape         Param #\n================================================================\n            Conv1d-1            [-1, 24, 20000]          12,288\n      CausalConv1d-2            [-1, 24, 19999]               0\n     ResidualStack-3        [-1, 2, 128, 18976]               0\n              ReLU-4           [-1, 128, 18976]               0\n            Conv1d-5           [-1, 256, 18976]          33,024\n              ReLU-6           [-1, 256, 18976]               0\n            Conv1d-7           [-1, 256, 18976]          65,792\n           Softmax-8           [-1, 256, 18976]               0\n           LastNet-9           [-1, 256, 18976]               0\n================================================================\nTotal params: 111,104\nTrainable params: 111,104\nNon-trainable params: 0\n----------------------------------------------------------------\nInput size (MB): 19.53\nForward/backward pass size (MB): 248.23\nParams size (MB): 0.42\nEstimated Total Size (MB): 268.18\n----------------------------------------------------------------\n"
    }
   ],
   "source": [
    "import models\n",
    "model = models.WaveNet().to(device)\n",
    "print(model.calc_receptive_fields(10, 5))\n",
    "summary(model, (19999, 256))"
   ]
  },
  {
   "cell_type": "code",
   "execution_count": null,
   "metadata": {},
   "outputs": [],
   "source": []
  }
 ],
 "metadata": {
  "language_info": {
   "codemirror_mode": {
    "name": "ipython",
    "version": 3
   },
   "file_extension": ".py",
   "mimetype": "text/x-python",
   "name": "python",
   "nbconvert_exporter": "python",
   "pygments_lexer": "ipython3",
   "version": "3.6.9-final"
  },
  "orig_nbformat": 2,
  "kernelspec": {
   "name": "python36964bit36598a2dc6be465b894ec45159f939a2",
   "display_name": "Python 3.6.9 64-bit"
  }
 },
 "nbformat": 4,
 "nbformat_minor": 2
}