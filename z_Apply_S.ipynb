{
 "cells": [
  {
   "cell_type": "code",
   "execution_count": 1,
   "metadata": {},
   "outputs": [],
   "source": [
    "#%%\n",
    "import numpy as np\n",
    "import librosa\n",
    "import IPython.display as ipd\n",
    "\n",
    "from glob import glob\n",
    "from scipy.io import loadmat\n",
    "\n",
    "import matplotlib.pyplot as plt\n",
    "from tqdm import tqdm\n",
    "import pickle\n",
    "import os\n",
    "import math\n",
    "\n",
    "import torch\n",
    "import torch.nn\n",
    "import torch.nn.functional as F"
   ]
  },
  {
   "cell_type": "code",
   "execution_count": 2,
   "metadata": {},
   "outputs": [
    {
     "name": "stdout",
     "output_type": "stream",
     "text": [
      "(128, 8, 8) (1500, 8)\n"
     ]
    }
   ],
   "source": [
    "base_path = \"/data/datasets/hyundai\"\n",
    "\n",
    "main_data_path = os.path.join(base_path, \"data\")\n",
    "main_mats = glob(main_data_path + \"/*.mat\")\n",
    "\n",
    "sample_data_path = os.path.join(base_path, \"20200619_DNN_ANC_sample_secondary_path\")\n",
    "sample_mats = glob(sample_data_path + \"/*.mat\")\n",
    "\n",
    "S_mat_path = \"/data/datasets/hyundai/20200619_DNN_ANC_sample_secondary_path/S_128_8_8.mat\"\n",
    "S_mat = loadmat(S_mat_path, mat_dtype=True)\n",
    "\n",
    "S_data = S_mat['S'] # (Ls, K, M)\n",
    "S_data.shape\n",
    "# %%\n",
    "sine_array = np.arange(0, 15, step=0.01)\n",
    "sine_array = list(map(lambda x: math.sin(x), sine_array))\n",
    "sine_array = np.array([sine_array for _ in range(8)]) #(N, M)\n",
    "sine_array = np.transpose(sine_array, (1,0))\n",
    "\n",
    "print(S_data.shape, sine_array.shape)\n"
   ]
  },
  {
   "cell_type": "code",
   "execution_count": null,
   "metadata": {},
   "outputs": [],
   "source": [
    "y = sine_array\n",
    "y_p = np.zeros((1500, 8))"
   ]
  }
 ],
 "metadata": {
  "kernelspec": {
   "display_name": "Python 3",
   "language": "python",
   "name": "python3"
  },
  "language_info": {
   "codemirror_mode": {
    "name": "ipython",
    "version": 3
   },
   "file_extension": ".py",
   "mimetype": "text/x-python",
   "name": "python",
   "nbconvert_exporter": "python",
   "pygments_lexer": "ipython3",
   "version": "3.6.9"
  }
 },
 "nbformat": 4,
 "nbformat_minor": 4
}
